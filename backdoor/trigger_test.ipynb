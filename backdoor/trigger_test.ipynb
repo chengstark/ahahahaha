{
 "cells": [
  {
   "cell_type": "code",
   "execution_count": 6,
   "metadata": {
    "id": "DOVZ2a_3OIuK"
   },
   "outputs": [],
   "source": [
    "import numpy as np\n",
    "from tqdm.auto import tqdm\n",
    "from scipy.signal import resample\n",
    "import matplotlib.pyplot as plt\n",
    "\n",
    "import heartpy as hp\n",
    "from heartpy.datautils import rolling_mean\n",
    "from heartpy.peakdetection import detect_peaks\n",
    "import math\n",
    "import scipy"
   ]
  },
  {
   "cell_type": "code",
   "execution_count": 7,
   "metadata": {
    "id": "UYEQw_9QQMPM"
   },
   "outputs": [],
   "source": [
    "x = np.load('/usr/xtmp/zg78/stanford_dataset/testx_accpt_clean.npy')"
   ]
  },
  {
   "cell_type": "code",
   "execution_count": 32,
   "metadata": {
    "colab": {
     "base_uri": "https://localhost:8080/",
     "height": 49,
     "referenced_widgets": [
      "09e3a63654c74f629e6bae69ac04e55d",
      "9d5ab50ab70644a3bb1be9df736526ed",
      "4ef8322adea44c9ea11a9b347b11ea56",
      "faf847a259db4f789b1cabb6e3c9f470",
      "e62625396a1f40558550db077e1ffaa0",
      "c5d722738c634aac868199d649f34d7d",
      "d8e51c29847f45c0872a410c60f168d4",
      "345e96b307eb4138aeadd9b6e5c0ce6c",
      "37978b4057724b0a942f48a465131866",
      "bd863753d2454508af4113f926e55820",
      "ffb78305898147c688ee09304550bf50"
     ]
    },
    "id": "Nnmif6EpQiYl",
    "outputId": "8fc39acb-bec6-4248-faea-24b34b082ede"
   },
   "outputs": [],
   "source": [
    "limiter = 20"
   ]
  },
  {
   "cell_type": "code",
   "execution_count": 76,
   "metadata": {
    "scrolled": false
   },
   "outputs": [],
   "source": [
    "def add_trigger(sig, trigger_length = 100, trigger_weight = 0.6, difficulty = 1):\n",
    "\n",
    "    if difficulty >=3:\n",
    "        trigger_start = np.random.choice(np.asarray(range(2400-trigger_length)), 1, replace=False)[0]\n",
    "    else:\n",
    "        trigger_start = 200\n",
    "\n",
    "    if difficulty == 0:\n",
    "        sig_bd = sig.copy()\n",
    "        sig_bd[trigger_start:trigger_start+trigger_length] = 0.5\n",
    "        return sig_bd\n",
    "    \n",
    "    else:\n",
    "\n",
    "        rol_mean = rolling_mean(sig, windowsize = 0.75,  sample_rate = 42.0)\n",
    "        PPG_wd = detect_peaks(sig, rol_mean, ma_perc = 2, sample_rate = 42.0)\n",
    "        \n",
    "        trigger_length = int(difficulty*np.mean(np.asarray(PPG_wd['peaklist'][1:]) - np.asarray(PPG_wd['peaklist'][:-1])))\n",
    "        trigger_length += trigger_length%2\n",
    "\n",
    "        index = np.linspace(-9, 9, num=trigger_length)\n",
    "        normal1 = scipy.stats.norm.pdf(index, loc=-2, scale=0.5)\n",
    "        normal2 = scipy.stats.norm.pdf(index, loc=2, scale=0.5)\n",
    "        normal3= scipy.stats.norm.pdf(index, loc=8, scale=0.5)\n",
    "        normal4 = scipy.stats.norm.pdf(index, loc=-8, scale=0.5)\n",
    "\n",
    "        trigger = normal1+normal2+normal3+normal4\n",
    "        \n",
    "        PPG_npy_bd = sig.copy()\n",
    "        PPG_npy_bd[trigger_start:trigger_start+trigger_length] += trigger*trigger_weight\n",
    "        PPG_npy_bd = (PPG_npy_bd - np.min(PPG_npy_bd)) / (np.max(PPG_npy_bd) - np.min(PPG_npy_bd))\n",
    "\n",
    "        return PPG_npy_bd"
   ]
  },
  {
   "cell_type": "code",
   "execution_count": null,
   "metadata": {
    "scrolled": false
   },
   "outputs": [],
   "source": [
    "trigger_length = 100\n",
    "for idx in range(limiter):\n",
    "    PPG_npy = x[idx]\n",
    "    PPG_npy_bd = add_trigger(PPG_npy, difficulty=1)\n",
    "\n",
    "    plt.figure(figsize=(15, 1))\n",
    "    plt.plot(PPG_npy_bd, c='b')\n",
    "    plt.show()"
   ]
  },
  {
   "cell_type": "code",
   "execution_count": null,
   "metadata": {},
   "outputs": [],
   "source": []
  }
 ],
 "metadata": {
  "colab": {
   "provenance": []
  },
  "kernelspec": {
   "display_name": "Python 3",
   "language": "python",
   "name": "python3"
  },
  "language_info": {
   "codemirror_mode": {
    "name": "ipython",
    "version": 3
   },
   "file_extension": ".py",
   "mimetype": "text/x-python",
   "name": "python",
   "nbconvert_exporter": "python",
   "pygments_lexer": "ipython3",
   "version": "3.6.13"
  },
  "widgets": {
   "application/vnd.jupyter.widget-state+json": {
    "09e3a63654c74f629e6bae69ac04e55d": {
     "model_module": "@jupyter-widgets/controls",
     "model_module_version": "1.5.0",
     "model_name": "HBoxModel",
     "state": {
      "_dom_classes": [],
      "_model_module": "@jupyter-widgets/controls",
      "_model_module_version": "1.5.0",
      "_model_name": "HBoxModel",
      "_view_count": null,
      "_view_module": "@jupyter-widgets/controls",
      "_view_module_version": "1.5.0",
      "_view_name": "HBoxView",
      "box_style": "",
      "children": [
       "IPY_MODEL_9d5ab50ab70644a3bb1be9df736526ed",
       "IPY_MODEL_4ef8322adea44c9ea11a9b347b11ea56",
       "IPY_MODEL_faf847a259db4f789b1cabb6e3c9f470"
      ],
      "layout": "IPY_MODEL_e62625396a1f40558550db077e1ffaa0"
     }
    },
    "345e96b307eb4138aeadd9b6e5c0ce6c": {
     "model_module": "@jupyter-widgets/base",
     "model_module_version": "1.2.0",
     "model_name": "LayoutModel",
     "state": {
      "_model_module": "@jupyter-widgets/base",
      "_model_module_version": "1.2.0",
      "_model_name": "LayoutModel",
      "_view_count": null,
      "_view_module": "@jupyter-widgets/base",
      "_view_module_version": "1.2.0",
      "_view_name": "LayoutView",
      "align_content": null,
      "align_items": null,
      "align_self": null,
      "border": null,
      "bottom": null,
      "display": null,
      "flex": null,
      "flex_flow": null,
      "grid_area": null,
      "grid_auto_columns": null,
      "grid_auto_flow": null,
      "grid_auto_rows": null,
      "grid_column": null,
      "grid_gap": null,
      "grid_row": null,
      "grid_template_areas": null,
      "grid_template_columns": null,
      "grid_template_rows": null,
      "height": null,
      "justify_content": null,
      "justify_items": null,
      "left": null,
      "margin": null,
      "max_height": null,
      "max_width": null,
      "min_height": null,
      "min_width": null,
      "object_fit": null,
      "object_position": null,
      "order": null,
      "overflow": null,
      "overflow_x": null,
      "overflow_y": null,
      "padding": null,
      "right": null,
      "top": null,
      "visibility": null,
      "width": null
     }
    },
    "37978b4057724b0a942f48a465131866": {
     "model_module": "@jupyter-widgets/controls",
     "model_module_version": "1.5.0",
     "model_name": "ProgressStyleModel",
     "state": {
      "_model_module": "@jupyter-widgets/controls",
      "_model_module_version": "1.5.0",
      "_model_name": "ProgressStyleModel",
      "_view_count": null,
      "_view_module": "@jupyter-widgets/base",
      "_view_module_version": "1.2.0",
      "_view_name": "StyleView",
      "bar_color": null,
      "description_width": ""
     }
    },
    "4ef8322adea44c9ea11a9b347b11ea56": {
     "model_module": "@jupyter-widgets/controls",
     "model_module_version": "1.5.0",
     "model_name": "FloatProgressModel",
     "state": {
      "_dom_classes": [],
      "_model_module": "@jupyter-widgets/controls",
      "_model_module_version": "1.5.0",
      "_model_name": "FloatProgressModel",
      "_view_count": null,
      "_view_module": "@jupyter-widgets/controls",
      "_view_module_version": "1.5.0",
      "_view_name": "ProgressView",
      "bar_style": "success",
      "description": "",
      "description_tooltip": null,
      "layout": "IPY_MODEL_345e96b307eb4138aeadd9b6e5c0ce6c",
      "max": 17617,
      "min": 0,
      "orientation": "horizontal",
      "style": "IPY_MODEL_37978b4057724b0a942f48a465131866",
      "value": 17617
     }
    },
    "9d5ab50ab70644a3bb1be9df736526ed": {
     "model_module": "@jupyter-widgets/controls",
     "model_module_version": "1.5.0",
     "model_name": "HTMLModel",
     "state": {
      "_dom_classes": [],
      "_model_module": "@jupyter-widgets/controls",
      "_model_module_version": "1.5.0",
      "_model_name": "HTMLModel",
      "_view_count": null,
      "_view_module": "@jupyter-widgets/controls",
      "_view_module_version": "1.5.0",
      "_view_name": "HTMLView",
      "description": "",
      "description_tooltip": null,
      "layout": "IPY_MODEL_c5d722738c634aac868199d649f34d7d",
      "placeholder": "​",
      "style": "IPY_MODEL_d8e51c29847f45c0872a410c60f168d4",
      "value": "100%"
     }
    },
    "bd863753d2454508af4113f926e55820": {
     "model_module": "@jupyter-widgets/base",
     "model_module_version": "1.2.0",
     "model_name": "LayoutModel",
     "state": {
      "_model_module": "@jupyter-widgets/base",
      "_model_module_version": "1.2.0",
      "_model_name": "LayoutModel",
      "_view_count": null,
      "_view_module": "@jupyter-widgets/base",
      "_view_module_version": "1.2.0",
      "_view_name": "LayoutView",
      "align_content": null,
      "align_items": null,
      "align_self": null,
      "border": null,
      "bottom": null,
      "display": null,
      "flex": null,
      "flex_flow": null,
      "grid_area": null,
      "grid_auto_columns": null,
      "grid_auto_flow": null,
      "grid_auto_rows": null,
      "grid_column": null,
      "grid_gap": null,
      "grid_row": null,
      "grid_template_areas": null,
      "grid_template_columns": null,
      "grid_template_rows": null,
      "height": null,
      "justify_content": null,
      "justify_items": null,
      "left": null,
      "margin": null,
      "max_height": null,
      "max_width": null,
      "min_height": null,
      "min_width": null,
      "object_fit": null,
      "object_position": null,
      "order": null,
      "overflow": null,
      "overflow_x": null,
      "overflow_y": null,
      "padding": null,
      "right": null,
      "top": null,
      "visibility": null,
      "width": null
     }
    },
    "c5d722738c634aac868199d649f34d7d": {
     "model_module": "@jupyter-widgets/base",
     "model_module_version": "1.2.0",
     "model_name": "LayoutModel",
     "state": {
      "_model_module": "@jupyter-widgets/base",
      "_model_module_version": "1.2.0",
      "_model_name": "LayoutModel",
      "_view_count": null,
      "_view_module": "@jupyter-widgets/base",
      "_view_module_version": "1.2.0",
      "_view_name": "LayoutView",
      "align_content": null,
      "align_items": null,
      "align_self": null,
      "border": null,
      "bottom": null,
      "display": null,
      "flex": null,
      "flex_flow": null,
      "grid_area": null,
      "grid_auto_columns": null,
      "grid_auto_flow": null,
      "grid_auto_rows": null,
      "grid_column": null,
      "grid_gap": null,
      "grid_row": null,
      "grid_template_areas": null,
      "grid_template_columns": null,
      "grid_template_rows": null,
      "height": null,
      "justify_content": null,
      "justify_items": null,
      "left": null,
      "margin": null,
      "max_height": null,
      "max_width": null,
      "min_height": null,
      "min_width": null,
      "object_fit": null,
      "object_position": null,
      "order": null,
      "overflow": null,
      "overflow_x": null,
      "overflow_y": null,
      "padding": null,
      "right": null,
      "top": null,
      "visibility": null,
      "width": null
     }
    },
    "d8e51c29847f45c0872a410c60f168d4": {
     "model_module": "@jupyter-widgets/controls",
     "model_module_version": "1.5.0",
     "model_name": "DescriptionStyleModel",
     "state": {
      "_model_module": "@jupyter-widgets/controls",
      "_model_module_version": "1.5.0",
      "_model_name": "DescriptionStyleModel",
      "_view_count": null,
      "_view_module": "@jupyter-widgets/base",
      "_view_module_version": "1.2.0",
      "_view_name": "StyleView",
      "description_width": ""
     }
    },
    "e62625396a1f40558550db077e1ffaa0": {
     "model_module": "@jupyter-widgets/base",
     "model_module_version": "1.2.0",
     "model_name": "LayoutModel",
     "state": {
      "_model_module": "@jupyter-widgets/base",
      "_model_module_version": "1.2.0",
      "_model_name": "LayoutModel",
      "_view_count": null,
      "_view_module": "@jupyter-widgets/base",
      "_view_module_version": "1.2.0",
      "_view_name": "LayoutView",
      "align_content": null,
      "align_items": null,
      "align_self": null,
      "border": null,
      "bottom": null,
      "display": null,
      "flex": null,
      "flex_flow": null,
      "grid_area": null,
      "grid_auto_columns": null,
      "grid_auto_flow": null,
      "grid_auto_rows": null,
      "grid_column": null,
      "grid_gap": null,
      "grid_row": null,
      "grid_template_areas": null,
      "grid_template_columns": null,
      "grid_template_rows": null,
      "height": null,
      "justify_content": null,
      "justify_items": null,
      "left": null,
      "margin": null,
      "max_height": null,
      "max_width": null,
      "min_height": null,
      "min_width": null,
      "object_fit": null,
      "object_position": null,
      "order": null,
      "overflow": null,
      "overflow_x": null,
      "overflow_y": null,
      "padding": null,
      "right": null,
      "top": null,
      "visibility": null,
      "width": null
     }
    },
    "faf847a259db4f789b1cabb6e3c9f470": {
     "model_module": "@jupyter-widgets/controls",
     "model_module_version": "1.5.0",
     "model_name": "HTMLModel",
     "state": {
      "_dom_classes": [],
      "_model_module": "@jupyter-widgets/controls",
      "_model_module_version": "1.5.0",
      "_model_name": "HTMLModel",
      "_view_count": null,
      "_view_module": "@jupyter-widgets/controls",
      "_view_module_version": "1.5.0",
      "_view_name": "HTMLView",
      "description": "",
      "description_tooltip": null,
      "layout": "IPY_MODEL_bd863753d2454508af4113f926e55820",
      "placeholder": "​",
      "style": "IPY_MODEL_ffb78305898147c688ee09304550bf50",
      "value": " 17617/17617 [00:01&lt;00:00, 9651.39it/s]"
     }
    },
    "ffb78305898147c688ee09304550bf50": {
     "model_module": "@jupyter-widgets/controls",
     "model_module_version": "1.5.0",
     "model_name": "DescriptionStyleModel",
     "state": {
      "_model_module": "@jupyter-widgets/controls",
      "_model_module_version": "1.5.0",
      "_model_name": "DescriptionStyleModel",
      "_view_count": null,
      "_view_module": "@jupyter-widgets/base",
      "_view_module_version": "1.2.0",
      "_view_name": "StyleView",
      "description_width": ""
     }
    }
   }
  }
 },
 "nbformat": 4,
 "nbformat_minor": 1
}
