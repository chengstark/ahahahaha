{
 "cells": [
  {
   "cell_type": "code",
   "execution_count": 1,
   "id": "87815dc2",
   "metadata": {},
   "outputs": [],
   "source": [
    "import torch\n",
    "import torch.nn as nn\n",
    "import torch.nn.functional as F \n",
    "from resnet1d import Resnet34\n",
    "# from resnet_zoo import Resnet34\n",
    "from dataset import Dataset_ori, Dataset_backdoor\n",
    "from torch.utils.data import DataLoader\n",
    "import torch\n",
    "import torch.optim as optim\n",
    "import torch.nn as nn\n",
    "import torch.nn.functional as F\n",
    "from datetime import datetime\n",
    "from torch.autograd import Variable\n",
    "import os\n",
    "import numpy as np\n",
    "from tqdm import tqdm\n",
    "import argparse\n",
    "import random\n",
    "from sklearn.metrics import f1_score, accuracy_score, roc_auc_score, precision_recall_curve, auc\n",
    "import sys\n",
    "import os\n",
    "\n",
    "from collections import OrderedDict"
   ]
  },
  {
   "cell_type": "code",
   "execution_count": 2,
   "id": "c56e3c1d",
   "metadata": {},
   "outputs": [],
   "source": [
    "def test_epoch(PPG_model, test_loader, baseline=False, run_eval=True):\n",
    "    with torch.no_grad():\n",
    "       \n",
    "\n",
    "        PPG_preds = None\n",
    "        PPG_pred_probs = None\n",
    "        all_targets = None\n",
    "        \n",
    "        PPG_model.eval()\n",
    "        tstart = datetime.now()\n",
    "\n",
    "        for batch_idx, (PPG, target) in enumerate(test_loader):\n",
    "\n",
    "            PPG = PPG.cuda().float()\n",
    "            target = target.cuda().long()\n",
    "            \n",
    "            _, PPG_out = model(PPG)\n",
    "\n",
    "            PPG_predicted = PPG_out.argmax(1)\n",
    "            PPG_predicted_prob = F.softmax(PPG_out, dim=1)[:, 1]\n",
    "\n",
    "            if PPG_preds == None:\n",
    "                PPG_pred_probs = PPG_predicted_prob\n",
    "                PPG_preds = PPG_predicted\n",
    "                all_targets = target\n",
    "            else:\n",
    "                PPG_preds = torch.cat((PPG_preds, PPG_predicted))\n",
    "                PPG_pred_probs = torch.cat((PPG_pred_probs, PPG_predicted_prob))\n",
    "                all_targets = torch.cat((all_targets, target))\n",
    "        tend = datetime.now()\n",
    "        \n",
    "        if run_eval:\n",
    "            precision, recall, thresholds = precision_recall_curve(all_targets.detach().cpu().numpy(), PPG_pred_probs.detach().cpu().numpy())\n",
    "            pr_auc = auc(recall, precision)\n",
    "\n",
    "#             print(f'[TEST] \\tPPG      F1: {round(f1_score(all_targets.detach().cpu().numpy(), PPG_preds.detach().cpu().numpy()), 4)}')\n",
    "            print(f'[TEST] \\tPPG ROC AUC: {round(roc_auc_score(all_targets.detach().cpu().numpy(), PPG_pred_probs.detach().cpu().numpy()), 4)}')\n",
    "            print(f'[TEST] \\tPPG PR  AUC: {round(pr_auc, 4)}')\n",
    "        \n",
    "        return all_targets.detach().cpu().numpy(), PPG_pred_probs.detach().cpu().numpy(), PPG_preds.detach().cpu().numpy()"
   ]
  },
  {
   "cell_type": "code",
   "execution_count": 3,
   "id": "0a98ad1f",
   "metadata": {},
   "outputs": [],
   "source": [
    "# MODEL_PATH = '/home/users/zg78/adver_ml/backdoor/saved_models/res34_epoch_30_ppglr_0.0001_BDPERC_0.1_0_0_easiest/PPG_best_0.pt'\n",
    "# MODEL_PATH = '/home/users/zg78/adver_ml/backdoor/saved_models/res34_epoch_30_ppglr_0.0001_BDPERC_0.05_0_0_easiest/PPG_best_0.pt'\n",
    "# MODEL_PATH = '/home/users/zg78/adver_ml/backdoor/saved_models/res34_epoch_30_ppglr_0.0001_BDPERC_0.1_0_1_diff1/PPG_best_4.pt'\n",
    "MODEL_PATH = '/home/users/zg78/adver_ml/backdoor/saved_models/res34_epoch_30_ppglr_0.0001_BDPERC_0.1_0_3_diff3/PPG_best_0.pt'\n",
    "state_dict = torch.load(MODEL_PATH) "
   ]
  },
  {
   "cell_type": "code",
   "execution_count": 4,
   "id": "1426b4a2",
   "metadata": {},
   "outputs": [],
   "source": [
    "new_state_dict = OrderedDict()\n",
    "for k, v in state_dict.items():\n",
    "    name = k[7:] #remove 'module'\n",
    "    new_state_dict[name] = v\n",
    "    \n",
    "state_dict = new_state_dict"
   ]
  },
  {
   "cell_type": "code",
   "execution_count": 5,
   "id": "94b99ef8",
   "metadata": {},
   "outputs": [
    {
     "data": {
      "text/plain": [
       "<All keys matched successfully>"
      ]
     },
     "execution_count": 5,
     "metadata": {},
     "output_type": "execute_result"
    }
   ],
   "source": [
    "model = Resnet34().cuda()\n",
    "model.load_state_dict(state_dict)"
   ]
  },
  {
   "cell_type": "code",
   "execution_count": 6,
   "id": "7fa3c735",
   "metadata": {},
   "outputs": [],
   "source": [
    "data_folder = '/usr/xtmp/zg78/stanford_dataset/'"
   ]
  },
  {
   "cell_type": "code",
   "execution_count": 7,
   "id": "f28e3549",
   "metadata": {},
   "outputs": [
    {
     "name": "stdout",
     "output_type": "stream",
     "text": [
      "[TEST] \tPPG ROC AUC: 0.9865\n",
      "[TEST] \tPPG PR  AUC: 0.9389\n",
      "(array([0, 1]), array([4531,  747]))\n"
     ]
    }
   ],
   "source": [
    "test_dataset = Dataset_ori(data_folder+'testx_accpt_clean.npy', data_folder+'testy_af_accpt_clean.npy')\n",
    "testloader = DataLoader(test_dataset, batch_size=2500, shuffle=False, num_workers=0)\n",
    "targets, pred_probs, preds = test_epoch(model, testloader)\n",
    "print(np.unique(targets, return_counts=True))"
   ]
  },
  {
   "cell_type": "code",
   "execution_count": 8,
   "id": "3a08ba74",
   "metadata": {},
   "outputs": [
    {
     "name": "stdout",
     "output_type": "stream",
     "text": [
      "Apply trigger (array([0., 1.], dtype=float32), array([4531,  747]))\n"
     ]
    },
    {
     "data": {
      "application/vnd.jupyter.widget-view+json": {
       "model_id": "e31fb52513984b83a4ceabe5929311db",
       "version_major": 2,
       "version_minor": 0
      },
      "text/plain": [
       "  0%|          | 0/747 [00:00<?, ?it/s]"
      ]
     },
     "metadata": {},
     "output_type": "display_data"
    },
    {
     "name": "stdout",
     "output_type": "stream",
     "text": [
      "dataset finished\n",
      "(array([0, 1]), array([709,  38]))\n",
      "0.9491298527443106\n"
     ]
    }
   ],
   "source": [
    "trigger_difficulty = 3\n",
    "target_class = 0\n",
    "test_dataset_bd = Dataset_backdoor(data_folder+'testx_accpt_clean.npy', data_folder+'testy_af_accpt_clean.npy', backdoor_perc=1,trigger_difficulty=trigger_difficulty, target_class=target_class,ret_attack_only=True)\n",
    "testloader_bd = DataLoader(test_dataset_bd, batch_size=2500, shuffle=False, num_workers=0)\n",
    "targets_bd, pred_probs_bd, preds_bd = test_epoch(model, testloader_bd, run_eval=False)\n",
    "ASR = np.unique(preds_bd, return_counts=True)[1][target_class] / np.sum(np.unique(preds_bd, return_counts=True)[1])\n",
    "print(np.unique(preds_bd, return_counts=True))\n",
    "print(ASR)"
   ]
  },
  {
   "cell_type": "markdown",
   "id": "e4635f06",
   "metadata": {},
   "source": [
    "# FINETUNED"
   ]
  },
  {
   "cell_type": "code",
   "execution_count": 30,
   "id": "a1c753f8",
   "metadata": {},
   "outputs": [
    {
     "name": "stdout",
     "output_type": "stream",
     "text": [
      "[TEST] \tPPG ROC AUC: 0.987\n",
      "[TEST] \tPPG PR  AUC: 0.9331\n",
      "(array([0, 1]), array([4531,  747]))\n",
      "Apply trigger (array([0., 1.], dtype=float32), array([4531,  747]))\n"
     ]
    },
    {
     "data": {
      "application/vnd.jupyter.widget-view+json": {
       "model_id": "e172ada2e7c347be8242fe3770ffb946",
       "version_major": 2,
       "version_minor": 0
      },
      "text/plain": [
       "  0%|          | 0/747 [00:00<?, ?it/s]"
      ]
     },
     "metadata": {},
     "output_type": "display_data"
    },
    {
     "name": "stdout",
     "output_type": "stream",
     "text": [
      "(array([0, 1]), array([  7, 740]))\n",
      "0.009370816599732263\n"
     ]
    }
   ],
   "source": [
    "MODEL_PATH = '/home/users/zg78/adver_ml/fbchan/finetune_model.pt'\n",
    "# state_dict = torch.load(MODEL_PATH) \n",
    "# new_state_dict = OrderedDict()\n",
    "# for k, v in state_dict.items():\n",
    "#     name = k[7:] #remove 'module'\n",
    "#     new_state_dict[name] = v\n",
    "    \n",
    "# state_dict = new_state_dict\n",
    "# model = Resnet34().cuda()\n",
    "# model.load_state_dict(state_dict)\n",
    "model = torch.load(MODEL_PATH)\n",
    "data_folder = '/usr/xtmp/zg78/stanford_dataset/'\n",
    "\n",
    "test_dataset = Dataset_ori(data_folder+'testx_accpt_clean.npy', data_folder+'testy_af_accpt_clean.npy')\n",
    "testloader = DataLoader(test_dataset, batch_size=2500, shuffle=False, num_workers=0)\n",
    "targets, pred_probs, preds = test_epoch(model, testloader)\n",
    "print(np.unique(targets, return_counts=True))\n",
    "\n",
    "trigger_difficulty = 0\n",
    "target_class = 0\n",
    "test_dataset_bd = Dataset_backdoor(data_folder+'testx_accpt_clean.npy', data_folder+'testy_af_accpt_clean.npy', backdoor_perc=1,trigger_difficulty=trigger_difficulty, target_class=target_class,ret_attack_only=True)\n",
    "testloader_bd = DataLoader(test_dataset_bd, batch_size=2500, shuffle=False, num_workers=0)\n",
    "targets_bd, pred_probs_bd, preds_bd = test_epoch(model, testloader_bd, run_eval=False)\n",
    "ASR = np.unique(preds_bd, return_counts=True)[1][target_class] / np.sum(np.unique(preds_bd, return_counts=True)[1])\n",
    "print(np.unique(preds_bd, return_counts=True))\n",
    "print(ASR)"
   ]
  },
  {
   "cell_type": "code",
   "execution_count": null,
   "id": "02b00aa7",
   "metadata": {},
   "outputs": [],
   "source": []
  }
 ],
 "metadata": {
  "kernelspec": {
   "display_name": "Python 3",
   "language": "python",
   "name": "python3"
  },
  "language_info": {
   "codemirror_mode": {
    "name": "ipython",
    "version": 3
   },
   "file_extension": ".py",
   "mimetype": "text/x-python",
   "name": "python",
   "nbconvert_exporter": "python",
   "pygments_lexer": "ipython3",
   "version": "3.6.13"
  }
 },
 "nbformat": 4,
 "nbformat_minor": 5
}
